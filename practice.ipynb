{
 "cells": [
  {
   "cell_type": "code",
   "execution_count": 3,
   "metadata": {},
   "outputs": [
    {
     "data": {
      "text/plain": [
       "[34, 54, 11, 67, 89, 43, 94, 11]"
      ]
     },
     "execution_count": 3,
     "metadata": {},
     "output_type": "execute_result"
    }
   ],
   "source": [
    "# refresh exercises from\n",
    "# https://pynative.com/python-data-structure-exercise-for-beginners/\n",
    "\n",
    "l1 = [3, 6, 9, 12, 15, 18, 21]\n",
    "l2 = [4, 8, 12, 16, 20, 24, 28]\n",
    "l3 = []\n",
    "\n",
    "for idx, val in enumerate(l1):\n",
    "    if idx % 2:\n",
    "        l3.append(val)\n",
    "    else:\n",
    "        l3.append(l2[idx])\n",
    "\n",
    "# remove the item present \n",
    "# at index 4 and add it to the 2nd position and at the end of the list.\n",
    "list1 = [34, 54, 67, 89, 11, 43, 94]\n",
    "\n",
    "list1.append(list1.pop(4))\n",
    "\n",
    "list1.insert(2, list1[-1])\n",
    "\n",
    "list1\n",
    "\n",
    "\n"
   ]
  },
  {
   "cell_type": "code",
   "execution_count": 4,
   "metadata": {},
   "outputs": [
    {
     "name": "stdout",
     "output_type": "stream",
     "text": [
      "[[8, 45, 11], [12, 14, 23], [89, 45, 78]]\n"
     ]
    }
   ],
   "source": [
    "import math\n",
    "\n",
    "sample_list = [11, 45, 8, 23, 14, 12, 78, 45, 89]\n",
    "\n",
    "n=3\n",
    "chunks = []\n",
    "size = upper = math.ceil(len(sample_list)/n)\n",
    "lower = 0\n",
    "\n",
    "# split into 3 equal size chunks, and reverse each chunk\n",
    "for times in range(n):\n",
    "\n",
    "    chunks.append(list(reversed(sample_list[lower:upper])))\n",
    "\n",
    "    # update the bounds\n",
    "    lower = upper\n",
    "    upper = upper + size\n",
    "\n",
    "print (chunks)\n",
    "\n",
    "\n"
   ]
  },
  {
   "cell_type": "code",
   "execution_count": 5,
   "metadata": {},
   "outputs": [
    {
     "data": {
      "text/plain": [
       "{11: 2, 45: 3, 8: 1, 23: 2, 89: 1}"
      ]
     },
     "execution_count": 5,
     "metadata": {},
     "output_type": "execute_result"
    }
   ],
   "source": [
    "# Write a program to iterate a given list and count the\n",
    "#  occurrence of each element and create a dictionary \n",
    "# to show the count of each element.\n",
    "\n",
    "sample_list = [11, 45, 8, 11, 23, 45, 23, 45, 89]\n",
    "\n",
    "from collections import defaultdict\n",
    "answers = defaultdict(int, dict())\n",
    "\n",
    "\n",
    "for num in sample_list:\n",
    "    answers[num] += 1\n",
    "\n",
    "answers = dict(answers)\n",
    "answers"
   ]
  },
  {
   "cell_type": "code",
   "execution_count": 6,
   "metadata": {},
   "outputs": [
    {
     "data": {
      "text/plain": [
       "{(2, 4), (3, 9), (4, 16), (5, 25), (6, 36), (7, 49), (8, 64)}"
      ]
     },
     "execution_count": 6,
     "metadata": {},
     "output_type": "execute_result"
    }
   ],
   "source": [
    "# Create a Python set such that it shows the element from both lists in a pair\n",
    "first_list = [2, 3, 4, 5, 6, 7, 8]\n",
    "second_list = [4, 9, 16, 25, 36, 49, 64]\n",
    "\n",
    "answers = set()\n",
    "\n",
    "for factor in first_list:\n",
    "\n",
    "    for multiple in second_list:\n",
    "        if multiple / factor != factor:\n",
    "            pass\n",
    "        else:\n",
    "            answers.add((factor, multiple))\n",
    "            continue\n",
    "answers\n",
    "\n"
   ]
  },
  {
   "cell_type": "code",
   "execution_count": 7,
   "metadata": {},
   "outputs": [
    {
     "data": {
      "text/plain": [
       "{23, 42, 65, 78}"
      ]
     },
     "execution_count": 7,
     "metadata": {},
     "output_type": "execute_result"
    }
   ],
   "source": [
    "# Find the intersection (common) of two sets and \n",
    "# remove those elements from the first set\n",
    "\n",
    "first_set = {23, 42, 65, 57, 78, 83, 29}\n",
    "second_set = {57, 83, 29, 67, 73, 43, 48}\n",
    "\n",
    "for val in first_set.copy():\n",
    "\n",
    "    if val in second_set:\n",
    "        first_set.remove(val)\n",
    "\n",
    "first_set\n",
    "\n"
   ]
  },
  {
   "cell_type": "code",
   "execution_count": 8,
   "metadata": {},
   "outputs": [
    {
     "data": {
      "text/plain": [
       "{22, 48, 53, 93}"
      ]
     },
     "execution_count": 8,
     "metadata": {},
     "output_type": "execute_result"
    }
   ],
   "source": [
    "#Checks if one set \n",
    "# is a subset or superset of another set. If found, delete\n",
    "#  all elements from that set\n",
    "first_set = {27, 43, 34}\n",
    "second_set = {34, 93, 22, 27, 43, 53, 48}\n",
    "\n",
    "both = first_set.intersection(second_set)\n",
    "if both == first_set:\n",
    "    for val in both:\n",
    "        second_set.remove(val)\n",
    "second_set"
   ]
  },
  {
   "cell_type": "code",
   "execution_count": 9,
   "metadata": {},
   "outputs": [
    {
     "data": {
      "text/plain": [
       "[44, 47, 52, 53, 54]"
      ]
     },
     "execution_count": 9,
     "metadata": {},
     "output_type": "execute_result"
    }
   ],
   "source": [
    "# Exercise 8: Iterate a given list and check if a given \n",
    "# element exists as a key’s value in a dictionary. \n",
    "# If not, delete it from the list\n",
    "\n",
    "roll_number = [47, 64, 69, 37, 76, 83, 95, 97]\n",
    "sample_dict = {'Jhon':47, 'Emma':69, 'Kelly':76, 'Jason':97}\n",
    "\n",
    "check = set(sample_dict.values())\n",
    "for idx, val in enumerate(roll_number):\n",
    "    if val in check:\n",
    "        roll_number.pop(idx)\n",
    "\n",
    "roll_number\n",
    "\n",
    "# Exercise 9: Get all\n",
    "#  values from the dictionary and add them to a list but don’t add duplicates\n",
    "speed = {'jan': 47, 'feb': 52, 'march': 47, 'April': 44, \\\n",
    "    'May': 52, 'June': 53, 'july': 54, 'Aug': 44, 'Sept': 54}\n",
    "\n",
    "answers = set(speed.values())\n",
    "\n",
    "# put it back to a list now we only have single instance of each value\n",
    "answers = list(answers)\n",
    "\n",
    "answers\n",
    "\n",
    "\n"
   ]
  },
  {
   "cell_type": "code",
   "execution_count": 10,
   "metadata": {},
   "outputs": [
    {
     "name": "stdout",
     "output_type": "stream",
     "text": [
      "{\"key1\": {\"one\": 3}, \"key2\": \"value2\"}\n"
     ]
    }
   ],
   "source": [
    "# json ex1\n",
    "# Convert the following dictionary into JSON format\n",
    "data = {\"key1\" : {\"one\":3}, \"key2\" : \"value2\"}\n",
    "import json\n",
    "j = json.dumps(data)\n",
    "\n",
    "print(j)\n",
    "\n"
   ]
  },
  {
   "cell_type": "code",
   "execution_count": 17,
   "metadata": {},
   "outputs": [
    {
     "name": "stdout",
     "output_type": "stream",
     "text": [
      "([0, 0, 0, 24], 24)\n",
      "([0, 0, 22, 0], 22)\n",
      "([0, 0, 22, 22], 44)\n",
      "([0, 0, 22, 24], 46)\n",
      "([0, 0, 66, 8], 74)\n",
      "([105, 0, 0, 2], 107)\n",
      "([105, 0, 0, 24], 129)\n",
      "([210, 60, 0, 44], 314)\n"
     ]
    }
   ],
   "source": [
    "MINUTE = 1\n",
    "HOUR = 60\n",
    "DAY = 24 * HOUR # 1440\n",
    "WEEK = 7 * DAY # 10080\n",
    "\n",
    "def GetPrice(amount_mins=0):\n",
    "    \n",
    "    try:\n",
    "\n",
    "        units = [WEEK, DAY, HOUR, MINUTE]\n",
    "        rate_values = [105, 60, 22, 2] \n",
    "    \n",
    "        # store our parts in the following \n",
    "        parts = [0, 0, 0, 0]\n",
    "\n",
    "        for idx, unit in enumerate(units):\n",
    "\n",
    "            # units and remainder\n",
    "            quotient, amount_mins = divmod(int(amount_mins), unit)\n",
    "            amount = quotient * rate_values[idx]\n",
    "\n",
    "            parts[idx] = amount\n",
    "\n",
    "            # if(idx > 0):\n",
    "            #     if(amount > rate_values[idx-1]):\n",
    "            #         parts[idx] = rate_values[idx-1]\n",
    "            #     else:\n",
    "            #         parts[idx] = amount\n",
    "            # else:\n",
    "            #     parts[idx] = amount\n",
    "\n",
    "        return parts, sum(parts)\n",
    "\n",
    "    except TypeError:\n",
    "        return 0\n",
    "    \n",
    "test_values = [12, 60, 71, 179, 184, 10081, 10092, 21622]\n",
    "test_answers = [22, 22, 44, 60, 60, 105+2, 105+22, 292 ]\n",
    "\n",
    "for test in test_values:\n",
    "\n",
    "    print(GetPrice(test))\n",
    "\n",
    "# 184 is 60 as under a day\n",
    "# e.g. 11532 = day = 60 \n",
    "\n",
    "\n",
    "# rewrite going up with do until ??"
   ]
  },
  {
   "cell_type": "code",
   "execution_count": 35,
   "metadata": {},
   "outputs": [
    {
     "name": "stdout",
     "output_type": "stream",
     "text": [
      "times [0, 0, 2, 59]\n",
      "162 summed [0, 0, 44, 118] (actual indivds)\n"
     ]
    }
   ],
   "source": [
    "units = [WEEK, DAY, HOUR, MINUTE]\n",
    "rate_values = [105, 60, 22, 2] # 2 days = week, 3 hours = day, 12 mins = hour\n",
    "# \n",
    "\n",
    "def GetTimesByUnit(amount_mins=0):\n",
    "\n",
    "    global units\n",
    "\n",
    "    # store our parts in the following \n",
    "    parts = [0, 0, 0, 0]\n",
    "\n",
    "    for idx, unit in enumerate(units):\n",
    "\n",
    "        # units and remainder\n",
    "        quotient, amount_mins = divmod(int(amount_mins), unit)\n",
    "        parts[idx] = quotient\n",
    "    \n",
    "    return parts\n",
    "\n",
    "        \n",
    "for test in test_values:\n",
    "    pass\n",
    "    #print(GetTimesByUnit(test))\n",
    "\n",
    "times = GetTimesByUnit(179)\n",
    "print(\"times\", times)\n",
    "\n",
    "time_prices = list()\n",
    "\n",
    "for idx, time in enumerate(times):\n",
    "    time_price = time * rate_values[idx] \n",
    "    time_prices.append(time_price)\n",
    "\n",
    "print(sum(time_prices), \"summed\", time_prices, \"(actual indivds)\")  \n",
    "\n"
   ]
  },
  {
   "cell_type": "code",
   "execution_count": 13,
   "metadata": {},
   "outputs": [
    {
     "data": {
      "text/plain": [
       "0.125"
      ]
     },
     "execution_count": 13,
     "metadata": {},
     "output_type": "execute_result"
    }
   ],
   "source": [
    "# e.g. 3, 2 = 9\n",
    "# or 3, 3 = 27\n",
    "\n",
    "\n",
    "# recursive exponent function\n",
    "def exponential(n, e):\n",
    "    if e < 0:\n",
    "        return 1 / exponential(n, -e)\n",
    "    elif e == 0:\n",
    "        return 1\n",
    "    elif e == 1:\n",
    "        return n\n",
    "    else :\n",
    "        return n * exponential(n, e-1)\n",
    "\n",
    "exponential(2, -3)"
   ]
  },
  {
   "cell_type": "code",
   "execution_count": null,
   "metadata": {},
   "outputs": [],
   "source": [
    "\n",
    "\n"
   ]
  }
 ],
 "metadata": {
  "kernelspec": {
   "display_name": "base",
   "language": "python",
   "name": "python3"
  },
  "language_info": {
   "codemirror_mode": {
    "name": "ipython",
    "version": 3
   },
   "file_extension": ".py",
   "mimetype": "text/x-python",
   "name": "python",
   "nbconvert_exporter": "python",
   "pygments_lexer": "ipython3",
   "version": "3.9.12 (main, Apr  5 2022, 06:56:58) \n[GCC 7.5.0]"
  },
  "orig_nbformat": 4,
  "vscode": {
   "interpreter": {
    "hash": "879e6a840cc41456eb1affc92517dbf0450909f9024c1dbc3fcc28ef6222a201"
   }
  }
 },
 "nbformat": 4,
 "nbformat_minor": 2
}
