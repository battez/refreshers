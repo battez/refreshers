{
 "cells": [
  {
   "cell_type": "code",
   "execution_count": 5,
   "metadata": {},
   "outputs": [
    {
     "data": {
      "text/plain": [
       "50"
      ]
     },
     "execution_count": 5,
     "metadata": {},
     "output_type": "execute_result"
    }
   ],
   "source": [
    "def tri_area(w, h):\n",
    "\n",
    "    area = (w * h) / 2\n",
    "\n",
    "    return int(area)\n",
    "\n",
    "tri_area(10,10)"
   ]
  },
  {
   "cell_type": "code",
   "execution_count": 8,
   "metadata": {},
   "outputs": [
    {
     "name": "stdout",
     "output_type": "stream",
     "text": [
      "III 3\n",
      "XIX 19\n",
      "XLIX 49\n"
     ]
    }
   ],
   "source": [
    "# convert roman numeral notation strings to western numerals\n",
    "# basic tests for this\n",
    "tests = {\"III\" : 3, \"XIX\" : 19, \"XLIX\" : 49}\n",
    "\n",
    "numerals = {\"I\" : 1, \"V\" : 5, \"X\" : 10, \"L\":50, \"C\" : 100 , \"D\":500, \"M\":1000}\n",
    "\n",
    "def convert(s):\n",
    "\n",
    "    total = 0\n",
    "\n",
    "    for idx, n in enumerate(s):\n",
    "\n",
    "        if( ((idx + 1) < len(s)) and (numerals[n] < numerals[s[idx+1]]) ):\n",
    "            \n",
    "            total = total - numerals[n]\n",
    "\n",
    "        else:\n",
    "            total = total + numerals[n]\n",
    "\n",
    "    return total\n",
    "            \n",
    "\n",
    "for key in tests:\n",
    "    print(key, convert(key))\n",
    "\n",
    "\n",
    "\n",
    "    "
   ]
  },
  {
   "cell_type": "code",
   "execution_count": 2,
   "metadata": {},
   "outputs": [
    {
     "data": {
      "text/plain": [
       "'a'"
      ]
     },
     "execution_count": 2,
     "metadata": {},
     "output_type": "execute_result"
    }
   ],
   "source": [
    "'''\n",
    "Write a function to find the longest common prefix string amongst an array of strings.\n",
    "\n",
    "If there is no common prefix, return an empty string \"\".\n",
    "\n",
    "'''\n",
    "\n",
    "test = [\"flower\",\"fl\",\"floss\"]\n",
    "test_alt = [\"a\"]\n",
    "\n",
    "\n",
    "def max_common_prefix(strs):\n",
    "    if len(strs) < 2:\n",
    "        # one word or less would not work\n",
    "        return strs[0]\n",
    "\n",
    "    num = len(strs)\n",
    "\n",
    "    common_prefix = \"\"\n",
    "\n",
    "    for idx, letter in enumerate(strs[0]):\n",
    "        \n",
    "        for word in strs[1:]:\n",
    "            try:\n",
    "                if letter != word[idx]:\n",
    "                    return common_prefix\n",
    "            except IndexError:\n",
    "                return common_prefix\n",
    "        \n",
    "        common_prefix += letter\n",
    "\n",
    "\n",
    "\n",
    "\n",
    "    return common_prefix\n",
    "\n",
    "# \n",
    "max_common_prefix(test_alt)\n"
   ]
  },
  {
   "cell_type": "code",
   "execution_count": 11,
   "metadata": {},
   "outputs": [
    {
     "data": {
      "text/plain": [
       "['ap', 'bp', 'cp', 'aq', 'bq', 'cq', 'ar', 'br', 'cr', 'as', 'bs', 'cs']"
      ]
     },
     "execution_count": 11,
     "metadata": {},
     "output_type": "execute_result"
    }
   ],
   "source": [
    "'''\n",
    "Given a string containing digits from 2-9 inclusive, \n",
    "return all possible letter combinations that the number could represent. \n",
    "Return the answer in any order.\n",
    "\n",
    "A mapping of digits to letters (just like on the telephone buttons) is given below. \n",
    "Note that 1 does not map to any letters.\n",
    "\n",
    "example\n",
    "Input: digits = \"23\"\n",
    "Output: [\"ad\",\"ae\",\"af\",\"bd\",\"be\",\"bf\",\"cd\",\"ce\",\"cf\"]\n",
    "\n",
    "'''\n",
    "digits = \"27\"\n",
    "\n",
    "mappings = [\"\", \"\", \"abc\", \"def\", \"ghi\", \"jkl\", \"mno\", \"pqrs\", \"tuv\", \"wxyz\"]\n",
    "\n",
    "# use two lists to hold last in an iteration and then \n",
    "# the newlist when we permutate with any new digit's letters\n",
    "permutations, newlist = list(), list()\n",
    "\n",
    "# take each digit in turn\n",
    "for idx, digit in enumerate(digits):\n",
    "    \n",
    "    # then convert into its letters \n",
    "    for letters in mappings[int(digit)]:\n",
    "        \n",
    "        for letter in letters:\n",
    "\n",
    "            if idx != 0:\n",
    "\n",
    "                for item in permutations:\n",
    "                    \n",
    "                    item += letter\n",
    "                    newlist.append(item)\n",
    "\n",
    "            else:\n",
    "                #  the first time we just have to do one for each letter\n",
    "                permutations.append(letter)\n",
    "\n",
    "    if(len(newlist) > 0):\n",
    "        # copy the items into the original list\n",
    "        permutations = newlist\n",
    "        # reset the buffer list\n",
    "        newlist = list()\n",
    "\n",
    "permutations\n",
    "                \n",
    "\n",
    "\n",
    "            \n",
    "\n",
    "    \n",
    "\n"
   ]
  },
  {
   "cell_type": "code",
   "execution_count": 78,
   "metadata": {},
   "outputs": [
    {
     "name": "stdout",
     "output_type": "stream",
     "text": [
      "[0, 1, 2, 3, 4, 6, 9]\n"
     ]
    },
    {
     "data": {
      "text/plain": [
       "7"
      ]
     },
     "execution_count": 78,
     "metadata": {},
     "output_type": "execute_result"
    }
   ],
   "source": [
    "test = [1,1,2,2,3]\n",
    "test_alt = [0,0,0,1,1,1,2,2,3,3,4,6,6,9]\n",
    "\n",
    "'''\n",
    "Given an integer array nums sorted in non-decreasing order, remove the duplicates in-place \n",
    "such that each unique element appears only once. \n",
    "The relative order of the elements should be kept the same.\n",
    "'''\n",
    "def removeDuplicates(nums):\n",
    "    \n",
    "    # keep track of things with these:\n",
    "    to_delete, prev = list(), None\n",
    "\n",
    "    for idx, num in enumerate(nums):\n",
    "\n",
    "        if (idx > 0):\n",
    "\n",
    "            if num > prev:\n",
    "                # we keep this item in our list and we need to set the new comparison:\n",
    "                prev = num\n",
    "            else:\n",
    "                # something to delete\n",
    "                to_delete.append(idx)\n",
    "        else:\n",
    "            prev = num\n",
    "\n",
    "    for item in range(len(to_delete)-1, -1, -1):\n",
    "        del nums[to_delete[item]]\n",
    "\n",
    "    print(nums)\n",
    "    return len(nums)\n",
    "    \n",
    "removeDuplicates(test_alt)"
   ]
  },
  {
   "cell_type": "code",
   "execution_count": 12,
   "metadata": {},
   "outputs": [
    {
     "name": "stdout",
     "output_type": "stream",
     "text": [
      "2\n"
     ]
    }
   ],
   "source": [
    "# https://leetcode.com/problems/find-the-index-of-the-first-occurrence-in-a-string\n",
    "# Given two strings needle and haystack, \n",
    "# return the index of the first occurrence of needle in haystack, \n",
    "# or -1 if needle is not part of haystack.\n",
    "\n",
    "test_needle = \"dog\"\n",
    "test_haystack = \"agdoggone\"\n",
    "\n",
    "def strStr(haystack, needle):\n",
    "\n",
    "    for idx, letter in enumerate(haystack):\n",
    "\n",
    "        if needle[0] != letter:\n",
    "            continue\n",
    "        \n",
    "        else:\n",
    "            if needle[1:] != haystack[idx+1:idx+len(needle)]:\n",
    "                continue\n",
    "            else:\n",
    "                return idx\n",
    "    else:\n",
    "        return -1\n",
    "    \n",
    "    \n",
    "    \n",
    "print(strStr(test_haystack, test_needle))\n"
   ]
  },
  {
   "cell_type": "code",
   "execution_count": 1,
   "metadata": {},
   "outputs": [],
   "source": [
    "# divide function without using divide or multiply\n",
    "''' Assume we are dealing with an environment that could only store integers \n",
    "within the 32-bit signed integer range: [−231, 231 − 1]. For this problem, \n",
    "if the quotient is strictly greater than 231 - 1, \n",
    "then return 231 - 1, and if the quotient is strictly less than -231, then return -231.\n",
    "'''\n",
    "\n",
    "def divide(dividend, divisor):\n",
    "\n",
    "    def recurse_minus(a, b, quotient=0):\n",
    "\n",
    "        if b == 1:\n",
    "            # this is just dividing by itself\n",
    "            return a\n",
    "        elif (a - b) < 0:\n",
    "            # stop condition\n",
    "            return quotient\n",
    "        else:\n",
    "            # recurse downward\n",
    "            quotient +=1\n",
    "            a = a - b\n",
    "            return recurse_minus(a, b, quotient)\n",
    "\n",
    "    answer = recurse_minus(abs(dividend), abs(divisor))\n",
    "\n",
    "    if (dividend < 0) != (divisor < 0):\n",
    "        answer = -answer\n",
    "\n",
    "    return min(max(-2147483648, answer), 2147483647)\n",
    "\n",
    "# above works except for recursion bounds exceeded in some cases:\n",
    "\n",
    "# below fails \n",
    "#divide(2147483647, 2)"
   ]
  },
  {
   "cell_type": "code",
   "execution_count": 3,
   "metadata": {},
   "outputs": [
    {
     "name": "stdout",
     "output_type": "stream",
     "text": [
      "False\n",
      "True\n"
     ]
    }
   ],
   "source": [
    "# codewars\n",
    "# https://www.codewars.com/kata/545cedaa9943f7fe7b000048/train/python\n",
    "''' \n",
    "A pangram is a sentence that contains every single letter of the alphabet at least once.\n",
    " For example, the sentence \"The quick brown fox jumps over the lazy dog\" is a pangram,\n",
    "  because it uses the letters A-Z at least once (case is irrelevant).\n",
    "\n",
    "Given a string, detect whether or not it is a pangram. \n",
    "Return True if it is, False if not. Ignore numbers and punctuation.\n",
    "'''\n",
    "\n",
    "import string\n",
    "\n",
    "def is_pangram(s):\n",
    "    \n",
    "    i\n",
    "    ALPHABET = set(string.ascii_lowercase)\n",
    "\n",
    "    s = set(s.lower())\n",
    "\n",
    "    return ALPHABET.issubset(s)\n",
    "\n",
    "print (is_pangram(\"test\"))\n",
    "\n",
    "print (is_pangram(\"AmaZingly few discotheques provide jukeboxes.\"))\n",
    "\n"
   ]
  }
 ],
 "metadata": {
  "kernelspec": {
   "display_name": "Python 3",
   "language": "python",
   "name": "python3"
  },
  "language_info": {
   "codemirror_mode": {
    "name": "ipython",
    "version": 3
   },
   "file_extension": ".py",
   "mimetype": "text/x-python",
   "name": "python",
   "nbconvert_exporter": "python",
   "pygments_lexer": "ipython3",
   "version": "3.8.3 (default, Jul  2 2020, 16:21:59) \n[GCC 7.3.0]"
  },
  "orig_nbformat": 4,
  "vscode": {
   "interpreter": {
    "hash": "94cf388f8de662ff7e863cb4530e0e3ea7b7a474a5bf6606bafccba2d461733b"
   }
  }
 },
 "nbformat": 4,
 "nbformat_minor": 2
}
