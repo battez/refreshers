{
 "cells": [
  {
   "cell_type": "code",
   "execution_count": 5,
   "metadata": {},
   "outputs": [
    {
     "data": {
      "text/plain": [
       "50"
      ]
     },
     "execution_count": 5,
     "metadata": {},
     "output_type": "execute_result"
    }
   ],
   "source": [
    "def tri_area(w, h):\n",
    "\n",
    "    area = (w * h) / 2\n",
    "\n",
    "    return int(area)\n",
    "\n",
    "tri_area(10,10)"
   ]
  },
  {
   "cell_type": "code",
   "execution_count": 8,
   "metadata": {},
   "outputs": [
    {
     "name": "stdout",
     "output_type": "stream",
     "text": [
      "III 3\n",
      "XIX 19\n",
      "XLIX 49\n"
     ]
    }
   ],
   "source": [
    "# convert roman numeral notation strings to western numerals\n",
    "# basic tests for this\n",
    "tests = {\"III\" : 3, \"XIX\" : 19, \"XLIX\" : 49}\n",
    "\n",
    "numerals = {\"I\" : 1, \"V\" : 5, \"X\" : 10, \"L\":50, \"C\" : 100 , \"D\":500, \"M\":1000}\n",
    "\n",
    "def convert(s):\n",
    "\n",
    "    total = 0\n",
    "\n",
    "    for idx, n in enumerate(s):\n",
    "\n",
    "        if( ((idx + 1) < len(s)) and (numerals[n] < numerals[s[idx+1]]) ):\n",
    "            \n",
    "            total = total - numerals[n]\n",
    "\n",
    "        else:\n",
    "            total = total + numerals[n]\n",
    "\n",
    "    return total\n",
    "            \n",
    "\n",
    "for key in tests:\n",
    "    print(key, convert(key))\n",
    "\n",
    "\n",
    "\n",
    "    "
   ]
  },
  {
   "cell_type": "code",
   "execution_count": 2,
   "metadata": {},
   "outputs": [
    {
     "data": {
      "text/plain": [
       "'a'"
      ]
     },
     "execution_count": 2,
     "metadata": {},
     "output_type": "execute_result"
    }
   ],
   "source": [
    "'''\n",
    "Write a function to find the longest common prefix string amongst an array of strings.\n",
    "\n",
    "If there is no common prefix, return an empty string \"\".\n",
    "\n",
    "'''\n",
    "\n",
    "test = [\"flower\",\"fl\",\"floss\"]\n",
    "test_alt = [\"a\"]\n",
    "\n",
    "\n",
    "def max_common_prefix(strs):\n",
    "    if len(strs) < 2:\n",
    "        # one word or less would not work\n",
    "        return strs[0]\n",
    "\n",
    "    num = len(strs)\n",
    "\n",
    "    common_prefix = \"\"\n",
    "\n",
    "    for idx, letter in enumerate(strs[0]):\n",
    "        \n",
    "        for word in strs[1:]:\n",
    "            try:\n",
    "                if letter != word[idx]:\n",
    "                    return common_prefix\n",
    "            except IndexError:\n",
    "                return common_prefix\n",
    "        \n",
    "        common_prefix += letter\n",
    "\n",
    "\n",
    "\n",
    "\n",
    "    return common_prefix\n",
    "\n",
    "# \n",
    "max_common_prefix(test_alt)\n"
   ]
  },
  {
   "cell_type": "code",
   "execution_count": 11,
   "metadata": {},
   "outputs": [
    {
     "data": {
      "text/plain": [
       "['ap', 'bp', 'cp', 'aq', 'bq', 'cq', 'ar', 'br', 'cr', 'as', 'bs', 'cs']"
      ]
     },
     "execution_count": 11,
     "metadata": {},
     "output_type": "execute_result"
    }
   ],
   "source": [
    "'''\n",
    "Given a string containing digits from 2-9 inclusive, \n",
    "return all possible letter combinations that the number could represent. \n",
    "Return the answer in any order.\n",
    "\n",
    "A mapping of digits to letters (just like on the telephone buttons) is given below. \n",
    "Note that 1 does not map to any letters.\n",
    "\n",
    "example\n",
    "Input: digits = \"23\"\n",
    "Output: [\"ad\",\"ae\",\"af\",\"bd\",\"be\",\"bf\",\"cd\",\"ce\",\"cf\"]\n",
    "\n",
    "'''\n",
    "digits = \"27\"\n",
    "\n",
    "mappings = [\"\", \"\", \"abc\", \"def\", \"ghi\", \"jkl\", \"mno\", \"pqrs\", \"tuv\", \"wxyz\"]\n",
    "\n",
    "# use two lists to hold last in an iteration and then \n",
    "# the newlist when we permutate with any new digit's letters\n",
    "permutations, newlist = list(), list()\n",
    "\n",
    "# take each digit in turn\n",
    "for idx, digit in enumerate(digits):\n",
    "    \n",
    "    # then convert into its letters \n",
    "    for letters in mappings[int(digit)]:\n",
    "        \n",
    "        for letter in letters:\n",
    "\n",
    "            if idx != 0:\n",
    "\n",
    "                for item in permutations:\n",
    "                    \n",
    "                    item += letter\n",
    "                    newlist.append(item)\n",
    "\n",
    "            else:\n",
    "                #  the first time we just have to do one for each letter\n",
    "                permutations.append(letter)\n",
    "\n",
    "    if(len(newlist) > 0):\n",
    "        # copy the items into the original list\n",
    "        permutations = newlist\n",
    "        # reset the buffer list\n",
    "        newlist = list()\n",
    "\n",
    "permutations\n",
    "                \n",
    "\n",
    "\n",
    "            \n",
    "\n",
    "    \n",
    "\n"
   ]
  },
  {
   "cell_type": "code",
   "execution_count": 78,
   "metadata": {},
   "outputs": [
    {
     "name": "stdout",
     "output_type": "stream",
     "text": [
      "[0, 1, 2, 3, 4, 6, 9]\n"
     ]
    },
    {
     "data": {
      "text/plain": [
       "7"
      ]
     },
     "execution_count": 78,
     "metadata": {},
     "output_type": "execute_result"
    }
   ],
   "source": [
    "test = [1,1,2,2,3]\n",
    "test_alt = [0,0,0,1,1,1,2,2,3,3,4,6,6,9]\n",
    "\n",
    "'''\n",
    "Given an integer array nums sorted in non-decreasing order, remove the duplicates in-place \n",
    "such that each unique element appears only once. \n",
    "The relative order of the elements should be kept the same.\n",
    "'''\n",
    "def removeDuplicates(nums):\n",
    "    \n",
    "    # keep track of things with these:\n",
    "    to_delete, prev = list(), None\n",
    "\n",
    "    for idx, num in enumerate(nums):\n",
    "\n",
    "        if (idx > 0):\n",
    "\n",
    "            if num > prev:\n",
    "                # we keep this item in our list and we need to set the new comparison:\n",
    "                prev = num\n",
    "            else:\n",
    "                # something to delete\n",
    "                to_delete.append(idx)\n",
    "        else:\n",
    "            prev = num\n",
    "\n",
    "    for item in range(len(to_delete)-1, -1, -1):\n",
    "        del nums[to_delete[item]]\n",
    "\n",
    "    print(nums)\n",
    "    return len(nums)\n",
    "    \n",
    "removeDuplicates(test_alt)"
   ]
  },
  {
   "cell_type": "code",
   "execution_count": 12,
   "metadata": {},
   "outputs": [
    {
     "name": "stdout",
     "output_type": "stream",
     "text": [
      "2\n"
     ]
    }
   ],
   "source": [
    "# https://leetcode.com/problems/find-the-index-of-the-first-occurrence-in-a-string\n",
    "# Given two strings needle and haystack, \n",
    "# return the index of the first occurrence of needle in haystack, \n",
    "# or -1 if needle is not part of haystack.\n",
    "\n",
    "test_needle = \"dog\"\n",
    "test_haystack = \"agdoggone\"\n",
    "\n",
    "def strStr(haystack, needle):\n",
    "\n",
    "    for idx, letter in enumerate(haystack):\n",
    "\n",
    "        if needle[0] != letter:\n",
    "            continue\n",
    "        \n",
    "        else:\n",
    "            if needle[1:] != haystack[idx+1:idx+len(needle)]:\n",
    "                continue\n",
    "            else:\n",
    "                return idx\n",
    "    else:\n",
    "        return -1\n",
    "    \n",
    "    \n",
    "    \n",
    "print(strStr(test_haystack, test_needle))\n"
   ]
  },
  {
   "cell_type": "code",
   "execution_count": 1,
   "metadata": {},
   "outputs": [],
   "source": [
    "# divide function without using divide or multiply\n",
    "''' Assume we are dealing with an environment that could only store integers \n",
    "within the 32-bit signed integer range: [−231, 231 − 1]. For this problem, \n",
    "if the quotient is strictly greater than 231 - 1, \n",
    "then return 231 - 1, and if the quotient is strictly less than -231, then return -231.\n",
    "'''\n",
    "\n",
    "def divide(dividend, divisor):\n",
    "\n",
    "    def recurse_minus(a, b, quotient=0):\n",
    "\n",
    "        if b == 1:\n",
    "            # this is just dividing by itself\n",
    "            return a\n",
    "        elif (a - b) < 0:\n",
    "            # stop condition\n",
    "            return quotient\n",
    "        else:\n",
    "            # recurse downward\n",
    "            quotient +=1\n",
    "            a = a - b\n",
    "            return recurse_minus(a, b, quotient)\n",
    "\n",
    "    answer = recurse_minus(abs(dividend), abs(divisor))\n",
    "\n",
    "    if (dividend < 0) != (divisor < 0):\n",
    "        answer = -answer\n",
    "\n",
    "    return min(max(-2147483648, answer), 2147483647)\n",
    "\n",
    "# above works except for recursion bounds exceeded in some cases:\n",
    "\n",
    "# below fails \n",
    "#divide(2147483647, 2)"
   ]
  },
  {
   "cell_type": "code",
   "execution_count": 3,
   "metadata": {},
   "outputs": [
    {
     "name": "stdout",
     "output_type": "stream",
     "text": [
      "False\n",
      "True\n"
     ]
    }
   ],
   "source": [
    "# codewars\n",
    "# https://www.codewars.com/kata/545cedaa9943f7fe7b000048/train/python\n",
    "''' \n",
    "A pangram is a sentence that contains every single letter of the alphabet at least once.\n",
    " For example, the sentence \"The quick brown fox jumps over the lazy dog\" is a pangram,\n",
    "  because it uses the letters A-Z at least once (case is irrelevant).\n",
    "\n",
    "Given a string, detect whether or not it is a pangram. \n",
    "Return True if it is, False if not. Ignore numbers and punctuation.\n",
    "'''\n",
    "\n",
    "import string\n",
    "\n",
    "def is_pangram(s):\n",
    "    \n",
    "    ALPHABET = set(string.ascii_lowercase)\n",
    "\n",
    "    s = set(s.lower())\n",
    "\n",
    "    return ALPHABET.issubset(s)\n",
    "\n",
    "print (is_pangram(\"test\"))\n",
    "\n",
    "print (is_pangram(\"AmaZingly few discotheques provide jukeboxes.\"))\n",
    "\n"
   ]
  },
  {
   "cell_type": "code",
   "execution_count": 18,
   "metadata": {},
   "outputs": [
    {
     "data": {
      "text/plain": [
       "'abcdefklmopqwxy'"
      ]
     },
     "execution_count": 18,
     "metadata": {},
     "output_type": "execute_result"
    }
   ],
   "source": [
    "''' \n",
    "\n",
    "Take 2 strings s1 and s2 including only letters from a to z. \n",
    "Return a new sorted string, the longest possible, containing distinct letters \n",
    "- each taken only once - coming from s1 or s2.\n",
    "\n",
    "\n",
    "a = \"xyaabbbccccdefww\"\n",
    "b = \"xxxxyyyyabklmopq\"\n",
    "longest(a, b) -> \"abcdefklmopqwxy\"\n",
    "\n",
    "a = \"abcdefghijklmnopqrstuvwxyz\"\n",
    "longest(a, a) -> \"abcdefghijklmnopqrstuvwxyz\"\n",
    "'''\n",
    "\n",
    "test_a = \"xyaabbbccccdefww\"\n",
    "test_b = \"xxxxyyyyabklmopq\"\n",
    "\n",
    "def longest(a1, a2):\n",
    "\n",
    "    input = sorted(list(set(a1+a2)))\n",
    "\n",
    "    return \"\".join(input)\n",
    "\n",
    "\n",
    "longest(test_a, test_b)"
   ]
  },
  {
   "cell_type": "code",
   "execution_count": 3,
   "metadata": {},
   "outputs": [
    {
     "data": {
      "text/plain": [
       "'P'"
      ]
     },
     "execution_count": 3,
     "metadata": {},
     "output_type": "execute_result"
    }
   ],
   "source": [
    "test_a = ['a','b','c','d','f'] # 'e'\n",
    "test_b = ['O','Q','R','S'] # 'P'\n",
    "\n",
    "\n",
    "import string\n",
    "\n",
    "def find_missing_letter(chars):\n",
    "    \n",
    "    alphabet = string.ascii_letters\n",
    "    \n",
    "    for idx, char in enumerate(alphabet):\n",
    "\n",
    "        if char != chars[0]:\n",
    "            continue\n",
    "        else:\n",
    "            # add 1 so we include the missing letter!\n",
    "            sub = alphabet[idx+1: idx + len(chars)+1]\n",
    "\n",
    "            for index, letter in enumerate(sub):\n",
    "                if letter == chars[index+1]:\n",
    "                    continue\n",
    "                else: \n",
    "                    return letter\n",
    "            \n",
    "\n",
    "find_missing_letter(test_b)\n"
   ]
  },
  {
   "cell_type": "code",
   "execution_count": 6,
   "metadata": {},
   "outputs": [
    {
     "data": {
      "text/plain": [
       "10"
      ]
     },
     "execution_count": 6,
     "metadata": {},
     "output_type": "execute_result"
    }
   ],
   "source": [
    "'''  \n",
    "https://www.codewars.com/kata/563b662a59afc2b5120000c6/train/python\n",
    "Growth of a Population\n",
    "\n",
    "More generally given parameters:\n",
    "\n",
    "p0, percent, aug (inhabitants coming or leaving each year), p (population to equal or surpass)\n",
    "\n",
    "the function nb_year should return n number of entire years needed to get a population greater or equal to p.\n",
    "\n",
    "aug is an integer, percent a positive or null floating number, p0 and p are positive integers (> 0)\n",
    "\n",
    "\n",
    "'''\n",
    "\n",
    "def nb_year(p0, percent, aug, p):\n",
    "    \n",
    "    years = 0\n",
    "\n",
    "    while p0 < p:\n",
    "        p0 += int((p0 * percent / 100)) + aug\n",
    "        years +=1 \n",
    "\n",
    "    return years\n",
    "\n",
    "\n",
    "# nb_year(1500, 5, 100, 5000) # should be 15\n",
    "\n",
    "nb_year(1500000, 2.5, 10000, 2000000) # 10\n",
    "\n"
   ]
  },
  {
   "cell_type": "code",
   "execution_count": 6,
   "metadata": {},
   "outputs": [
    {
     "data": {
      "text/plain": [
       "3"
      ]
     },
     "execution_count": 6,
     "metadata": {},
     "output_type": "execute_result"
    }
   ],
   "source": [
    "'''  \n",
    "https://www.codewars.com/kata/57cebe1dc6fdc20c57000ac9/train/python\n",
    "given a string of words, return the length of the shortest word(s).\n",
    "\n",
    "String will never be empty and you do not need to account for different data types.\n",
    "\n",
    "'''\n",
    "import string\n",
    "\n",
    "\n",
    "# a solution without using split just to make it more awkward!\n",
    "def find_short(s):\n",
    "\n",
    "    current = 0 \n",
    "    l = len(s) # shortest length\n",
    "\n",
    "    for char in s:\n",
    "        \n",
    "        if (char != \" \"):\n",
    "            current += 1\n",
    "        else:\n",
    "            # check for a new minimum\n",
    "            if current < l:\n",
    "                l = current\n",
    "            \n",
    "            # reset and move on\n",
    "            current = 0\n",
    "    else:\n",
    "        # check the last word as well:\n",
    "        if current < l:\n",
    "            l = current\n",
    "            \n",
    "    return l\n",
    "\n",
    "s = \"the quick brown fox jumped over yeah\"\n",
    "#s = \"let's travel abroad shall we\"\n",
    "find_short(s)\n"
   ]
  },
  {
   "cell_type": "code",
   "execution_count": 17,
   "metadata": {},
   "outputs": [
    {
     "data": {
      "text/plain": [
       "['ab', 'cd', 'ef']"
      ]
     },
     "execution_count": 17,
     "metadata": {},
     "output_type": "execute_result"
    }
   ],
   "source": [
    "'''  \n",
    "Complete the solution so that it splits the string into pairs of two characters.\n",
    " If the string contains an odd number of characters then it should replace \n",
    " the missing second character of the final pair with an underscore ('_').\n",
    "\n",
    "* 'abc' =>  ['ab', 'c_']\n",
    "* 'abcdef' => ['ab', 'cd', 'ef']\n",
    "\n",
    "'''\n",
    "def solution(s):\n",
    "\n",
    "    pairs = list()\n",
    "    \n",
    "    for i in range(1, len(s), 2):\n",
    "        pairs.append(s[i-1] + s[i])\n",
    "    else:\n",
    "        if len(s) % 2:\n",
    "            pairs.append(s[-1] + \"_\")\n",
    "\n",
    "    return pairs\n",
    "\n",
    "solution(\"abcdef\")\n"
   ]
  },
  {
   "cell_type": "code",
   "execution_count": 48,
   "metadata": {},
   "outputs": [
    {
     "data": {
      "text/plain": [
       "160"
      ]
     },
     "execution_count": 48,
     "metadata": {},
     "output_type": "execute_result"
    }
   ],
   "source": [
    "''' \n",
    "https://www.codewars.com/kata/5526fc09a1bbd946250002dc/solutions/python\n",
    "\n",
    "You are given an array (which will have a length of at least 3, but could be very large) \n",
    "containing integers. \n",
    "\n",
    "The array is either entirely comprised of odd integers or entirely comprised of even \n",
    "integers except for a single integer N. \n",
    "Write a method that takes the array as an argument and returns this \"outlier\" N.\n",
    "'''\n",
    "\n",
    "def find_outlier(integers):\n",
    "\n",
    "    # we can sample the first few items to determine the even or oddness\n",
    "    logic = [item % 2 for item in integers[:3]]\n",
    "    \n",
    "    # since we know there are min. 3 elements, we can deduce overall:\n",
    "    mostly_odd = False # initialise to odd\n",
    "\n",
    "    if (sum(logic) > 1):\n",
    "        mostly_odd = True\n",
    "    \n",
    "    # find the outlier item\n",
    "    for item in integers:\n",
    "        if bool(item % 2) != mostly_odd:\n",
    "            return item\n",
    "\n",
    "find_outlier([-1, 160, 3, 1719, 19, 11, 13, -21])"
   ]
  },
  {
   "cell_type": "code",
   "execution_count": 6,
   "metadata": {},
   "outputs": [
    {
     "data": {
      "text/plain": [
       "'t'"
      ]
     },
     "execution_count": 6,
     "metadata": {},
     "output_type": "execute_result"
    }
   ],
   "source": [
    "''' \n",
    "https://www.codewars.com/kata/52bc74d4ac05d0945d00054e/python\n",
    "\n",
    "Write a function named first_non_repeating_letter that takes a string input, \n",
    "and returns the first character that is not repeated anywhere in the string.\n",
    "\n",
    "For example, if given the input 'stress', the function should return 't', \n",
    "since the letter t only occurs once in the string, and occurs first in the string.\n",
    "\n",
    "As an added challenge, upper- and lowercase letters are considered the same \n",
    "character, but the function should return the correct case for the initial letter. \n",
    "For example, the input 'sTreSS' should return 'T'.\n",
    "\n",
    "If a string contains all repeating characters, it should return an empty string (\"\") \n",
    "or None -- see sample tests.\n",
    "'''\n",
    "from collections import Counter\n",
    "\n",
    "def first_non_repeating_letter(string):\n",
    "\n",
    "    lower = string.lower()\n",
    "    counts = Counter(lower)\n",
    "\n",
    "    for idx, char in enumerate(lower):\n",
    "\n",
    "        if counts[char] > 1:\n",
    "            continue\n",
    "        else:\n",
    "            return string[idx]\n",
    "    else:\n",
    "        return \"\"\n",
    "\n",
    "\n",
    "first_non_repeating_letter('a') # a\n",
    "first_non_repeating_letter('stress') # 't'\n",
    "#first_non_repeating_letter('moonmen') # 'e'"
   ]
  },
  {
   "cell_type": "code",
   "execution_count": 9,
   "metadata": {},
   "outputs": [
    {
     "data": {
      "text/plain": [
       "['Two words',\n",
       " 'tWo words',\n",
       " 'twO words',\n",
       " 'two Words',\n",
       " 'two wOrds',\n",
       " 'two woRds',\n",
       " 'two worDs',\n",
       " 'two wordS']"
      ]
     },
     "execution_count": 9,
     "metadata": {},
     "output_type": "execute_result"
    }
   ],
   "source": [
    "def wave(string):\n",
    "\n",
    "    result = list()\n",
    "\n",
    "    for idx, char in enumerate(string):\n",
    "        if char != \" \":\n",
    "            instance = string[:idx] + char.upper() + string[idx+1:]\n",
    "            result.append(instance)\n",
    "            \n",
    "    return result\n",
    "\n",
    "\n",
    "wave(\"two words\")# ['Hello','hEllo'] etc\n",
    "#wave(\"\") # []"
   ]
  },
  {
   "cell_type": "code",
   "execution_count": 31,
   "metadata": {},
   "outputs": [
    {
     "data": {
      "text/plain": [
       "{'pos': [], 'peaks': []}"
      ]
     },
     "execution_count": 31,
     "metadata": {},
     "output_type": "execute_result"
    }
   ],
   "source": [
    "''' \n",
    "\n",
    "In this kata, you will write a function that returns the positions and the values of the \"peaks\" \n",
    "(or local maxima) of a numeric array.\n",
    "\n",
    "For example, the array arr = [0, 1, 2, 5, 1, 0] has a peak at position 3 with a value of 5 \n",
    "(since arr[3] equals 5).\n",
    "\n",
    "The output will be returned as an object with two properties: pos and peaks. \n",
    "Both of these properties should be arrays. If there is no peak in the given array, \n",
    "then the output should be {pos: [], peaks: []}.\n",
    "\n",
    "Example: pickPeaks([3, 2, 3, 6, 4, 1, 2, 3, 2, 1, 2, 3]) should return {pos: [3, 7], peaks: [6, 3]} \n",
    "(or equivalent in other languages)\n",
    "\n",
    "All input arrays will be valid integer arrays (although it could still be empty), so you won't need \n",
    "to validate the input.\n",
    "\n",
    "The first and last elements of the array will not be considered as peaks (in the context of a \n",
    "mathematical function, we don't know what is after and before and therefore, we don't know \n",
    "if it is a peak or not).\n",
    "\n",
    "Also, beware of plateaus !!! [1, 2, 2, 2, 1] has a peak while [1, 2, 2, 2, 3] and [1, 2, 2, 2, 2] \n",
    "do not. In case of a plateau-peak, please only return the position and value of the beginning \n",
    "of the plateau. \n",
    "For example: pickPeaks([1, 2, 2, 2, 1]) returns {pos: [1], peaks: [2]} (or equivalent in other languages)\n",
    "'''\n",
    "# input eg like [3,4,5,2,1]\n",
    "# python return format is dict {'pos':[], 'peaks':[]}\n",
    "\n",
    "def pick_peaks(arr):\n",
    "    \n",
    "    maxima = {'pos': [], 'peaks': []} \n",
    "\n",
    "    # store the lat value, and a peak-occur-toggle which will also hold the earliest index of this peak\n",
    "    last, peak_pos = None, False\n",
    "\n",
    "    for idx, val in enumerate(arr):\n",
    "        \n",
    "        if idx > 0:\n",
    "            \n",
    "            if val > last:\n",
    "                peak_pos = idx\n",
    "\n",
    "            elif peak_pos and val < last:\n",
    "\n",
    "                # this was a peak\n",
    "                maxima['pos'].append(peak_pos)\n",
    "                maxima['peaks'].append(last)\n",
    "\n",
    "                # reset things\n",
    "                peak_pos = False\n",
    "                \n",
    "            else:\n",
    "                pass\n",
    "\n",
    "        # update the last value\n",
    "        last = val\n",
    "\n",
    "    return maxima\n",
    "\n",
    "# example tests to try\n",
    "pick_peaks([1,2,2,2,3,3])\n",
    "#pick_peaks([1,2,3,6,4,1,2,3,2,1])\n",
    "#pick_peaks([3,2,3,6   ,4,1,2,3   ,2,1,2   ,2,2,1]) # 3 7 10\n",
    "\n"
   ]
  },
  {
   "cell_type": "code",
   "execution_count": 2,
   "metadata": {},
   "outputs": [
    {
     "ename": "IndentationError",
     "evalue": "expected an indented block (<ipython-input-2-8b689384256e>, line 39)",
     "output_type": "error",
     "traceback": [
      "\u001b[0;36m  File \u001b[0;32m\"<ipython-input-2-8b689384256e>\"\u001b[0;36m, line \u001b[0;32m39\u001b[0m\n\u001b[0;31m    except IndexError:\u001b[0m\n\u001b[0m    ^\u001b[0m\n\u001b[0;31mIndentationError\u001b[0m\u001b[0;31m:\u001b[0m expected an indented block\n"
     ]
    }
   ],
   "source": [
    "# Given the string representations of two integers, \n",
    "# return the string representation of the sum of those integers.\n",
    "\n",
    "def sumStrings(a, b):\n",
    "\n",
    "    answer = \"\"\n",
    "\n",
    "    # we force the loop below to run through for the shorter of the strings\n",
    "    # as that is all we need to do\n",
    "    if len(a) > len(b):\n",
    "        temp = b\n",
    "        b = a\n",
    "        a = temp\n",
    "        \n",
    "    # when we need to \"carry\" the next unit type\n",
    "    carry = 0\n",
    "\n",
    "    # loop from smallest part of string adding \n",
    "    for idx, digit in enumerate(reversed(a)):\n",
    "        try:\n",
    "\n",
    "            # convert to and from integer and string\n",
    "            unit_value = str(carry + int(digit) + int(b[-idx -1]))\n",
    "            \n",
    "            if len(unit_value) > 1:\n",
    "                carry = int(unit_value[0])\n",
    "            else:\n",
    "                carry = 0\n",
    "            \n",
    "            answer += unit_value[-1]\n",
    "                        \n",
    "        except IndexError:\n",
    "            print (\"index error\")\n",
    "    else:\n",
    "        # once we are through the loop we need to include the longer digit string to the sum\n",
    "        try:\n",
    "            # add the extra digits in b to this\n",
    "\n",
    "        except IndexError:\n",
    "\n",
    "            if(carry):\n",
    "                answer += str(carry)\n",
    "\n",
    "    # reverse the answer before returning it:\n",
    "    return answer[::-1]\n",
    "\n",
    "\n",
    "# example test\n",
    "sumStrings('9115','906') # => '10021'\n",
    "\n"
   ]
  },
  {
   "cell_type": "code",
   "execution_count": 24,
   "metadata": {},
   "outputs": [
    {
     "data": {
      "text/plain": [
       "'1221'"
      ]
     },
     "execution_count": 24,
     "metadata": {},
     "output_type": "execute_result"
    }
   ],
   "source": [
    "# recursive version of above - should be better\n",
    "def sumStrings(x, y):\n",
    "\n",
    "    # simplify the strings first \n",
    "    if len(x) > len(y):\n",
    "        y = y.rjust(len(x), '0')\n",
    "    elif len(x) < len(y):\n",
    "        x = x.rjust(len(y), '0')\n",
    "    else:\n",
    "        pass\n",
    "\n",
    "    a = x[::-1]\n",
    "    b = y[::-1]\n",
    "\n",
    "    def rec_add(x, y, answer=\"\", carry=0):\n",
    "        \n",
    "        # stop condition if empty input strings\n",
    "        if (len(x) == 0 or len(y) == 0):\n",
    "            return answer\n",
    "\n",
    "        # convert to and from integer and string\n",
    "        unit_value = str(carry + int(x[0]) + int(y[0]) )\n",
    "\n",
    "        if len(unit_value) > 1:\n",
    "            carry = int(unit_value[0])\n",
    "        else:\n",
    "            carry = 0\n",
    "\n",
    "        answer += unit_value[-1]\n",
    "\n",
    "        x = x[1:]\n",
    "        y = y[1:]\n",
    "\n",
    "        # stop condition\n",
    "        if (len(x) == 0 or len(y) == 0):\n",
    "            # we are done but there may still be a carry over which we should include\n",
    "            if carry:\n",
    "                answer += str(carry)\n",
    "\n",
    "            return answer\n",
    "        else:\n",
    "            # recurse again\n",
    "            return rec_add(x, y, answer, carry)\n",
    "\n",
    "    answer = rec_add(a, b)\n",
    "\n",
    "    if answer == \"\":\n",
    "        return \"0\"\n",
    "    elif int(answer) == 0:\n",
    "        return \"0\"\n",
    "    else:\n",
    "        # un-reverse the answer\n",
    "        return answer[::-1].lstrip(\"0\")\n",
    "\n",
    "# passes tests except fails the execution time condition - recursiveError is thrown :(\n",
    "sumStrings(x, y)"
   ]
  }
 ],
 "metadata": {
  "kernelspec": {
   "display_name": "Python 3",
   "language": "python",
   "name": "python3"
  },
  "language_info": {
   "codemirror_mode": {
    "name": "ipython",
    "version": 3
   },
   "file_extension": ".py",
   "mimetype": "text/x-python",
   "name": "python",
   "nbconvert_exporter": "python",
   "pygments_lexer": "ipython3",
   "version": "3.8.3"
  },
  "orig_nbformat": 4,
  "vscode": {
   "interpreter": {
    "hash": "94cf388f8de662ff7e863cb4530e0e3ea7b7a474a5bf6606bafccba2d461733b"
   }
  }
 },
 "nbformat": 4,
 "nbformat_minor": 2
}
